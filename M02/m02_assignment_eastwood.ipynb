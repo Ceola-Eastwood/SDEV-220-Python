{
 "cells": [
  {
   "cell_type": "code",
   "execution_count": 23,
   "metadata": {},
   "outputs": [
    {
     "name": "stdout",
     "output_type": "stream",
     "text": [
      "too low\n",
      "too low\n",
      "too low\n",
      "too low\n",
      "found it!\n",
      "oops\n"
     ]
    }
   ],
   "source": [
    "#Textbook\n",
    "\n",
    "#4.1\n",
    "secret = 8\n",
    "guess = 2\n",
    "\n",
    "#if guess > secret:\n",
    "   #print (\"too high\")\n",
    "#elif guess < secret:\n",
    "    #print (\"too low\")\n",
    "#else:\n",
    "    #print (\"Just right\")\n",
    "\n",
    "\n",
    "#4.2\n",
    "\n",
    "small = True\n",
    "green = False \n",
    "\n",
    "#if small:\n",
    "    #if green:\n",
    "        #print (\"Cherry!\")\n",
    "    #else:\n",
    "        #print (\"Pea!\")\n",
    "#else: \n",
    "    #if green:\n",
    "        #print (\"Watermelon!\")\n",
    "    #else:\n",
    "        #print(\"Pumpkin\")\n",
    "\n",
    "#6.1\n",
    "\n",
    "#for x in [3, 2, 1, 0]:\n",
    "    #print (x)\n",
    "    \n",
    "#6.2\n",
    "\n",
    "guess_me = 7\n",
    "number = 1\n",
    "\n",
    "#while True:\n",
    "    #if number < guess_me:\n",
    "        #print(\"too low\")\n",
    "    #if number == guess_me:\n",
    "        #print(\"found it!\")\n",
    "    #if number > guess_me:\n",
    "        #print(\"oops\")\n",
    "        #break\n",
    "    #number += 1\n",
    "\n",
    "\n",
    "\n",
    "#6.3\n",
    "\n",
    "guess_me = 5\n",
    "\n",
    "for x in range(0, 10):\n",
    "    if number < guess_me:\n",
    "        print(\"too low\")\n",
    "    if number == guess_me:\n",
    "        print(\"found it!\")\n",
    "    if number > guess_me:\n",
    "        print(\"oops\")\n",
    "        break\n",
    "    number += 1\n",
    "    \n",
    "\n",
    "\n"
   ]
  },
  {
   "cell_type": "code",
   "execution_count": null,
   "metadata": {},
   "outputs": [],
   "source": []
  }
 ],
 "metadata": {
  "kernelspec": {
   "display_name": "Python 3",
   "language": "python",
   "name": "python3"
  },
  "language_info": {
   "codemirror_mode": {
    "name": "ipython",
    "version": 3
   },
   "file_extension": ".py",
   "mimetype": "text/x-python",
   "name": "python",
   "nbconvert_exporter": "python",
   "pygments_lexer": "ipython3",
   "version": "3.8.5"
  }
 },
 "nbformat": 4,
 "nbformat_minor": 4
}
