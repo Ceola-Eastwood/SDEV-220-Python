{
 "cells": [
  {
   "cell_type": "code",
   "execution_count": 63,
   "metadata": {},
   "outputs": [
    {
     "name": "stdout",
     "output_type": "stream",
     "text": [
      "Hello, please enter your LAST name.  c\n",
      "Hello, Please enter your FIRST name.  d\n",
      "Lastly, please enter your GPA.  3.27\n",
      "Congrats d! You made the Honors Roll this semester!\n"
     ]
    }
   ],
   "source": [
    "#Ceola Eastwood\n",
    "#m02_lab_eastwood\n",
    "#This program allows students to check if they made any honor's list this semester.\n",
    "#It is possible to get above a 4.0 GPA but I am making this the upper limit and the lower limit is 1.0.\n",
    "\n",
    "\n",
    "l_name = input(\"Hello, please enter your LAST name.  \")\n",
    "\n",
    "while l_name == 'ZZZ':\n",
    "    l_name = input(\"Please enter a vaild LAST name.  \")\n",
    "    if l_name != 'ZZZ':\n",
    "        continue\n",
    "    \n",
    "f_name = input(\"Hello, Please enter your FIRST name.  \")    \n",
    "GPA = float(input(\"Lastly, please enter your GPA.  \"))\n",
    "\n",
    "while GPA > 4.0 or GPA < 1.0:\n",
    "    GPA = float(input (\"Not a vaild GPA. Try again.\"))\n",
    "    if GPA >= 1.0 and GPA <=4.0:\n",
    "        continue\n",
    "\n",
    "\n",
    "if GPA < 1.0 and GPA >=3.0:\n",
    "    print(f_name + \", You did not make honors this semester.\")\n",
    "if GPA >= 3.0 and GPA <=3.49:\n",
    "    print(\"Congrats \" + f_name +\"! You made the Honors Roll this semester!\")\n",
    "elif GPA >= 3.5 and GPA <= 4.0:\n",
    "    print(\"Congrats \" + f_name +\"! You made the Dean's List this semester!\")\n",
    "\n",
    "\n",
    "\n",
    "\n",
    "\n"
   ]
  },
  {
   "cell_type": "code",
   "execution_count": null,
   "metadata": {},
   "outputs": [],
   "source": []
  },
  {
   "cell_type": "code",
   "execution_count": null,
   "metadata": {},
   "outputs": [],
   "source": []
  }
 ],
 "metadata": {
  "kernelspec": {
   "display_name": "Python 3",
   "language": "python",
   "name": "python3"
  },
  "language_info": {
   "codemirror_mode": {
    "name": "ipython",
    "version": 3
   },
   "file_extension": ".py",
   "mimetype": "text/x-python",
   "name": "python",
   "nbconvert_exporter": "python",
   "pygments_lexer": "ipython3",
   "version": "3.8.5"
  }
 },
 "nbformat": 4,
 "nbformat_minor": 4
}
