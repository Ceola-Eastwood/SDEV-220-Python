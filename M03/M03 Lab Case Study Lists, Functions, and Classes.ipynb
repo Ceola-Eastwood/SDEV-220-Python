{
 "cells": [
  {
   "cell_type": "code",
   "execution_count": 2,
   "metadata": {},
   "outputs": [
    {
     "name": "stdout",
     "output_type": "stream",
     "text": [
      "What is the year?   j\n",
      "What is the make?   h\n",
      "What is the model?   g\n",
      "How many doors does this car have??  f\n",
      "Does this vehicle have a sun roof or solid roof?  Please enter Solid OR Sunf\n",
      "Vehicle type: car\n",
      "Year: j\n",
      "Make: h\n",
      "Model: g\n",
      "Number of doors: f\n",
      "Type of roof: f\n"
     ]
    }
   ],
   "source": [
    "#M03 Lab Case Study Lists, Functions, and Classes\n",
    "#Ceola Eastwood\n",
    "#\n",
    "\n",
    "\n",
    "\n",
    "#Super Class\n",
    "class Vehicle:\n",
    "    def __init__(self, v_type):   \n",
    "        self.v_type = v_type \n",
    "        \n",
    "#Child Class     \n",
    "class Automobile(Vehicle):\n",
    "    def __init__ (self, v_type, year, make, model, num_doors, roof):\n",
    "    \n",
    "    #Super CLass Inhereiance\n",
    "        Vehicle.__init__(self, v_type)\n",
    "        self.year = year\n",
    "        self.make = make\n",
    "        self.model = model\n",
    "        self.num_doors = num_doors\n",
    "        self.roof = roof \n",
    "        \n",
    "    \n",
    "    def __str__(self):\n",
    "        return \"Vehicle type: \" + self.v_type + \"\\nYear: \" + self.year + \"\\nMake: \" + self.make + \"\\nModel: \" + self.model + \"\\nNumber of doors: \" + self.num_doors + \"\\nType of roof: \" + self.roof\n",
    "        \n",
    "        \n",
    "if __name__ == \"__main__\":       \n",
    "        #Get and store user input about car\n",
    "        \n",
    "    year = input(\"What is the year?   \")\n",
    "    make = input(\"What is the make?   \")\n",
    "    model = input(\"What is the model?   \")\n",
    "    num_doors = input (\"How many doors does this car have??  \")\n",
    "    roof = input (\"Does this vehicle have a sun roof or solid roof?  Please enter Solid OR Sun \")\n",
    "        \n",
    "        #create object from user\n",
    "    userCar = Automobile(\"car\", year, make, model, num_doors, roof)\n",
    "    print(userCar)\n",
    "\n",
    "    \n",
    " \n",
    "    "
   ]
  },
  {
   "cell_type": "code",
   "execution_count": null,
   "metadata": {},
   "outputs": [],
   "source": []
  }
 ],
 "metadata": {
  "kernelspec": {
   "display_name": "Python 3",
   "language": "python",
   "name": "python3"
  },
  "language_info": {
   "codemirror_mode": {
    "name": "ipython",
    "version": 3
   },
   "file_extension": ".py",
   "mimetype": "text/x-python",
   "name": "python",
   "nbconvert_exporter": "python",
   "pygments_lexer": "ipython3",
   "version": "3.8.5"
  }
 },
 "nbformat": 4,
 "nbformat_minor": 4
}
