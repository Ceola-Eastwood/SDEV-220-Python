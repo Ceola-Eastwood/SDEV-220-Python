{
 "cells": [
  {
   "cell_type": "code",
   "execution_count": 52,
   "metadata": {},
   "outputs": [
    {
     "name": "stdout",
     "output_type": "stream",
     "text": [
      "5\n"
     ]
    }
   ],
   "source": [
    "#7.4 Make a list called things with these three strings as elements: \"mozzarella\", \"cinderella\", \"salmonella\".\n",
    "\n",
    "things = [\"mozzarella\", \"cinderella\", \"salmonella\"]\n",
    "\n",
    "#7.5 Capitalize the element in things that refers to a person and then print the list. Did it change the element in the list?\n",
    "\n",
    "#No, this will not change cinderella\n",
    "#print(things[1].capitalize())\n",
    "#print (things)\n",
    "\n",
    "#Yes, this code change cinderella to Cinderella\n",
    "#things [1] = (things[1].capitalize())\n",
    "#print (things)\n",
    "\n",
    "\n",
    "#7.6 Make the cheesy element of things all uppercase and then print the list.\n",
    "\n",
    "#things [0] = (things[0].upper())\n",
    "#print (things)\n",
    "\n",
    "#7.7 Delete the disease element from things, collect your Nobel Prize, and print the list.\n",
    "\n",
    "#things.remove('salmonella') \n",
    "#print (things)\n",
    "\n",
    "#9.1 Define a function called good() that returns the following list: ['Harry', 'Ron', 'Hermione'].\n",
    "\n",
    "\n",
    "def good():\n",
    "    return ['Harry', 'Ron', 'Hermione']\n",
    "\n",
    "good()\n",
    "\n",
    "#9.2 Define a generator function called get_odds() that returns the odd numbers from range(10). \n",
    "#Use a for loop to find and print the third value returned.\n",
    "\n",
    "def get_odds():\n",
    "    i = 0\n",
    "    for x in range (1, 10, 2??):\n",
    "        if (x % 2) != 0:\n",
    "            i = i+1\n",
    "            if i == 3:\n",
    "                print(x) \n",
    "        \n",
    "get_odds()\n"
   ]
  },
  {
   "cell_type": "code",
   "execution_count": null,
   "metadata": {},
   "outputs": [],
   "source": []
  }
 ],
 "metadata": {
  "kernelspec": {
   "display_name": "Python 3",
   "language": "python",
   "name": "python3"
  },
  "language_info": {
   "codemirror_mode": {
    "name": "ipython",
    "version": 3
   },
   "file_extension": ".py",
   "mimetype": "text/x-python",
   "name": "python",
   "nbconvert_exporter": "python",
   "pygments_lexer": "ipython3",
   "version": "3.8.5"
  }
 },
 "nbformat": 4,
 "nbformat_minor": 4
}
