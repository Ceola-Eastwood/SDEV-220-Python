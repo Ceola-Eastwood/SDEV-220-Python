{
 "cells": [
  {
   "cell_type": "code",
   "execution_count": 3,
   "metadata": {},
   "outputs": [
    {
     "name": "stdout",
     "output_type": "stream",
     "text": [
      "3600\n",
      "3600\n",
      "86400\n",
      "86400\n",
      "24.0\n",
      "24.0\n"
     ]
    }
   ],
   "source": [
    "#3.1\n",
    "sec_in_min = 60\n",
    "min_in_hr = 60\n",
    "print (sec_in_min * min_in_hr)\n",
    "\n",
    "#3.2\n",
    "seconds_per_hour = sec_in_min * min_in_hr\n",
    "print (seconds_per_hour)\n",
    "\n",
    "#3.3\n",
    "hrs_in_day = 24\n",
    "print (seconds_per_hour*hrs_in_day)\n",
    "\n",
    "#3.4\n",
    "seconds_per_day = seconds_per_hour*hrs_in_day\n",
    "print(seconds_per_day)\n",
    "\n",
    "#3.5\n",
    "print (seconds_per_day/seconds_per_hour)\n",
    "\n",
    "#3.6\n",
    "print (seconds_per_day/seconds_per_hour)\n",
    "\n",
    "#Yes the final numbers match"
   ]
  },
  {
   "cell_type": "code",
   "execution_count": null,
   "metadata": {},
   "outputs": [],
   "source": []
  }
 ],
 "metadata": {
  "kernelspec": {
   "display_name": "Python 3",
   "language": "python",
   "name": "python3"
  },
  "language_info": {
   "codemirror_mode": {
    "name": "ipython",
    "version": 3
   },
   "file_extension": ".py",
   "mimetype": "text/x-python",
   "name": "python",
   "nbconvert_exporter": "python",
   "pygments_lexer": "ipython3",
   "version": "3.8.5"
  }
 },
 "nbformat": 4,
 "nbformat_minor": 4
}
